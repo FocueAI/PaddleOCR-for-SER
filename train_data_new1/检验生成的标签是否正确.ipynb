{
 "cells": [
  {
   "cell_type": "code",
   "execution_count": 15,
   "metadata": {},
   "outputs": [],
   "source": [
    "import cv2\n",
    "import os,json\n",
    "import numpy as np"
   ]
  },
  {
   "cell_type": "code",
   "execution_count": 7,
   "metadata": {},
   "outputs": [
    {
     "name": "stdout",
     "output_type": "stream",
     "text": [
      "-----------display-------------\n",
      "2478\n"
     ]
    }
   ],
   "source": [
    "with open('/mnt/disk4/projects/expore/PaddleOCR-det-mulcls-analyse/train_data_new1/det_bookspine_text/train.txt', 'r', encoding='utf-8') as f:\n",
    "    con = f.readlines()\n",
    "print('-----------display-------------')\n",
    "print(len(con))"
   ]
  },
  {
   "cell_type": "code",
   "execution_count": 18,
   "metadata": {},
   "outputs": [],
   "source": [
    "def calculate_polygon_centroid(vertices):\n",
    "    \"\"\"\n",
    "    计算多边形的质心坐标。\n",
    "    :param vertices: 多边形顶点坐标列表，格式为 [(x1, y1), (x2, y2), ..., (xn, yn)]\n",
    "    :return: 质心坐标 (Cx, Cy)\n",
    "    \"\"\"\n",
    "    # 分离 x 和 y 坐标\n",
    "    x_coords = [vertex[0] for vertex in vertices]\n",
    "    y_coords = [vertex[1] for vertex in vertices]\n",
    "    \n",
    "    # 计算质心\n",
    "    Cx = sum(x_coords) / len(vertices)\n",
    "    Cy = sum(y_coords) / len(vertices)\n",
    "    \n",
    "    return Cx, Cy"
   ]
  },
  {
   "cell_type": "code",
   "execution_count": 21,
   "metadata": {},
   "outputs": [
    {
     "name": "stderr",
     "output_type": "stream",
     "text": [
      "100%|██████████| 2478/2478 [00:03<00:00, 635.83it/s]\n"
     ]
    }
   ],
   "source": [
    "root_dir = r\"det_bookspine_text\"\n",
    "\n",
    "check_res = os.path.join(root_dir, \"check_res\")\n",
    "import shutil\n",
    "if os.path.exists(check_res):\n",
    "    shutil.rmtree(check_res)\n",
    "os.makedirs(check_res)\n",
    "\n",
    "from tqdm import tqdm\n",
    "\n",
    "for this_item in tqdm(con):\n",
    "    # print(this_item)\n",
    "    img_path, labels = this_item.split('\\t')\n",
    "    labels = json.loads(labels)\n",
    "    full_img_path = os.path.join(root_dir, img_path)\n",
    "    save_img_path = os.path.join(check_res, os.path.basename(full_img_path))\n",
    "    img = cv2.imread(full_img_path)\n",
    "    for label in labels:\n",
    "        label_cls = label['class']\n",
    "        label_box = label['points']\n",
    "        box = np.array(label_box).astype(np.int32).reshape(-1, 2)\n",
    "        cv2.polylines(img, [box], True, color=(255, 255, 0), thickness=4)\n",
    "        \n",
    "        font = cv2.FONT_HERSHEY_SIMPLEX  # 字体类型\n",
    "        font_scale = 1.2  # 字体大小\n",
    "        color = (0, 255, 0)  # 字体颜色（绿色）\n",
    "        thickness = 2  # 字体粗细\n",
    "        center_coord = calculate_polygon_centroid(box.tolist())\n",
    "        # print(f'center_coord:{center_coord}')\n",
    "        # 在图像上添加文本\n",
    "        cv2.putText(img, label_cls[:2], (int(center_coord[0]),int(center_coord[1])), font, font_scale, color, thickness, cv2.LINE_AA)\n",
    "        \n",
    "    cv2.imwrite(save_img_path,img)\n",
    "    \n",
    "        \n",
    "        \n"
   ]
  },
  {
   "cell_type": "code",
   "execution_count": null,
   "metadata": {},
   "outputs": [],
   "source": []
  },
  {
   "cell_type": "code",
   "execution_count": null,
   "metadata": {},
   "outputs": [],
   "source": []
  },
  {
   "cell_type": "code",
   "execution_count": null,
   "metadata": {},
   "outputs": [],
   "source": []
  }
 ],
 "metadata": {
  "kernelspec": {
   "display_name": "paddle",
   "language": "python",
   "name": "python3"
  },
  "language_info": {
   "codemirror_mode": {
    "name": "ipython",
    "version": 3
   },
   "file_extension": ".py",
   "mimetype": "text/x-python",
   "name": "python",
   "nbconvert_exporter": "python",
   "pygments_lexer": "ipython3",
   "version": "3.12.9"
  }
 },
 "nbformat": 4,
 "nbformat_minor": 2
}
